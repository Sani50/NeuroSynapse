

import pandas as pd
# Load the EEG dataset from the uploaded CSV file
eeg_csv_path = '/content/eeg_seizure_data.csv'
eeg_data = pd.read_csv(eeg_csv_path)

# Display dataset information and the first few rows
eeg_data.info(), eeg_data.head()

     
<class 'pandas.core.frame.DataFrame'>
RangeIndex: 2216 entries, 0 to 2215
Columns: 668 entries, FP1_power_delta to epileptic_
dtypes: float64(667), int64(1)
memory usage: 11.3 MB
(None,
    FP1_power_delta  FP1_power_theta  FP1_power_alpha  FP1_power_beta  \
 0        15.980332         8.633358         3.092433        0.846559   
 1       223.267803        41.573241        13.043525        6.463381   
 2       158.673907        31.788608         9.956198        3.736977   
 3        29.767326         3.875543         1.553127        0.438266   
 4        33.821075         3.635210         1.347280        0.313205   
 
    FP1_power_gamma  FP2_power_delta  FP2_power_theta  FP2_power_alpha  \
 0         0.372832        17.581626         9.937238         3.485713   
 1         6.168712       298.274432        50.013025        14.411482   
 2         2.926979       232.762741        39.332981        10.956081   
 3         0.140495        45.206547         5.173542         2.028637   
 4         0.080396        55.670043         4.925017         1.783729   
 
    FP2_power_beta  FP2_power_gamma  ...  T5_STD_D4  T5_STD_D5  T5_STD_D6  \
 0        0.945396         0.428797  ...  31.427918  29.699413  32.013546   
 1        6.659230         4.942250  ...  24.822720  47.185918  93.619195   
 2        3.478036         2.153082  ...  21.708222  47.412375  85.729645   
 3        0.528962         0.161283  ...  26.319506  39.628894  51.473202   
 4        0.394463         0.102254  ...  26.111048  39.177537  52.925676   
 
    T6_STD_D1  T6_STD_D2  T6_STD_D3  T6_STD_D4   T6_STD_D5   T6_STD_D6  \
 0   3.583559  12.529528  45.831132  61.890813   34.783454   33.245906   
 1  14.158489  15.217886  30.927407  77.324322  153.442359  213.780950   
 2   9.493639  11.824569  24.555772  59.229187  112.406306  171.618208   
 3   1.872515   5.392639  17.296780  35.824586   44.892899   79.613460   
 4   1.408291   4.556997  12.733549  25.676801   44.406617   94.770581   
 
    epileptic_  
 0           1  
 1           1  
 2           1  
 3           1  
 4           1  
 
 [5 rows x 668 columns])

# Import necessary libraries
import pandas as pd
from sklearn.ensemble import RandomForestClassifier
from sklearn.model_selection import train_test_split
from sklearn.preprocessing import StandardScaler
from sklearn.metrics import accuracy_score, classification_report, confusion_matrix

# Load the EEG dataset
eeg_csv_path = '/content/eeg_seizure_data.csv'  # Replace with the correct path to your dataset
eeg_data = pd.read_csv(eeg_csv_path)

# Separate features and target
X = eeg_data.drop(columns=["epileptic_"])
y = eeg_data["epileptic_"]

# Check for missing values
if X.isnull().sum().sum() > 0:
    print("Warning: Dataset contains missing values!")

# Scale features
scaler = StandardScaler()
X_scaled = scaler.fit_transform(X)

# Split the data into training and testing sets
X_train, X_test, y_train, y_test = train_test_split(
    X_scaled, y, test_size=0.2, random_state=42, stratify=y
)

# Initialize and train the Random Forest classifier
rf_model = RandomForestClassifier(n_estimators=100, random_state=42)
rf_model.fit(X_train, y_train)

# Make predictions
y_pred = rf_model.predict(X_test)

# Evaluate the model
accuracy = accuracy_score(y_test, y_pred)
report = classification_report(y_test, y_pred)
conf_matrix = confusion_matrix(y_test, y_pred)

# Print results
print(f"Accuracy: {accuracy:.2f}")
print("\nClassification Report:")
print(report)
print("\nConfusion Matrix:")
print(conf_matrix)

     
Accuracy: 0.88

Classification Report:
              precision    recall  f1-score   support

           0       0.89      0.88      0.89       240
           1       0.86      0.88      0.87       204

    accuracy                           0.88       444
   macro avg       0.88      0.88      0.88       444
weighted avg       0.88      0.88      0.88       444


Confusion Matrix:
[[211  29]
 [ 25 179]]

import matplotlib.pyplot as plt
import numpy as np

# Get feature importance
importances = rf_model.feature_importances_
indices = np.argsort(importances)[::-1]

# Plot the top features
plt.figure(figsize=(10, 6))
plt.title("Top Feature Importances", fontsize=16)
plt.bar(range(10), importances[indices[:10]], align="center")
plt.xticks(range(10), X.columns[indices[:10]], rotation=45, ha='right', fontsize=12)
plt.ylabel("Importance", fontsize=14)
plt.tight_layout()
plt.show()

     


import seaborn as sns

plt.figure(figsize=(8, 6))
sns.heatmap(conf_matrix, annot=True, fmt="d", cmap="Blues", xticklabels=["Non-Seizure", "Seizure"],
            yticklabels=["Non-Seizure", "Seizure"])
plt.title("Confusion Matrix", fontsize=16)
plt.xlabel("Predicted Labels", fontsize=14)
plt.ylabel("True Labels", fontsize=14)
plt.show()

     


from sklearn.tree import plot_tree

plt.figure(figsize=(20, 10))
plot_tree(rf_model.estimators_[0], feature_names=X.columns, filled=True, max_depth=3, fontsize=10)
plt.title("Visualization of a Single Tree", fontsize=16)
plt.show()

     


import joblib

# Save the trained Random Forest model
model_filename = "rf_model"
joblib.dump(rf_model, model_filename)
print(f"Model saved as {model_filename}")

# Save the scaler used for preprocessing
scaler_filename = "scaler"
joblib.dump(scaler, scaler_filename)
print(f"Scaler saved as {scaler_filename}")

     
Model saved as rf_model
Scaler saved as scaler

pip install dash plotly pandas numpy
     
Collecting dash
  Downloading dash-2.18.2-py3-none-any.whl.metadata (10 kB)
Requirement already satisfied: plotly in /usr/local/lib/python3.10/dist-packages (5.24.1)
Requirement already satisfied: pandas in /usr/local/lib/python3.10/dist-packages (2.2.2)
Requirement already satisfied: numpy in /usr/local/lib/python3.10/dist-packages (1.26.4)
Collecting Flask<3.1,>=1.0.4 (from dash)
  Downloading flask-3.0.3-py3-none-any.whl.metadata (3.2 kB)
Collecting Werkzeug<3.1 (from dash)
  Downloading werkzeug-3.0.6-py3-none-any.whl.metadata (3.7 kB)
Collecting dash-html-components==2.0.0 (from dash)
  Downloading dash_html_components-2.0.0-py3-none-any.whl.metadata (3.8 kB)
Collecting dash-core-components==2.0.0 (from dash)
  Downloading dash_core_components-2.0.0-py3-none-any.whl.metadata (2.9 kB)
Collecting dash-table==5.0.0 (from dash)
  Downloading dash_table-5.0.0-py3-none-any.whl.metadata (2.4 kB)
Requirement already satisfied: importlib-metadata in /usr/local/lib/python3.10/dist-packages (from dash) (8.5.0)
Requirement already satisfied: typing-extensions>=4.1.1 in /usr/local/lib/python3.10/dist-packages (from dash) (4.12.2)
Requirement already satisfied: requests in /usr/local/lib/python3.10/dist-packages (from dash) (2.32.3)
Collecting retrying (from dash)
  Downloading retrying-1.3.4-py3-none-any.whl.metadata (6.9 kB)
Requirement already satisfied: nest-asyncio in /usr/local/lib/python3.10/dist-packages (from dash) (1.6.0)
Requirement already satisfied: setuptools in /usr/local/lib/python3.10/dist-packages (from dash) (75.1.0)
Requirement already satisfied: tenacity>=6.2.0 in /usr/local/lib/python3.10/dist-packages (from plotly) (9.0.0)
Requirement already satisfied: packaging in /usr/local/lib/python3.10/dist-packages (from plotly) (24.2)
Requirement already satisfied: python-dateutil>=2.8.2 in /usr/local/lib/python3.10/dist-packages (from pandas) (2.8.2)
Requirement already satisfied: pytz>=2020.1 in /usr/local/lib/python3.10/dist-packages (from pandas) (2024.2)
Requirement already satisfied: tzdata>=2022.7 in /usr/local/lib/python3.10/dist-packages (from pandas) (2024.2)
Requirement already satisfied: Jinja2>=3.1.2 in /usr/local/lib/python3.10/dist-packages (from Flask<3.1,>=1.0.4->dash) (3.1.4)
Requirement already satisfied: itsdangerous>=2.1.2 in /usr/local/lib/python3.10/dist-packages (from Flask<3.1,>=1.0.4->dash) (2.2.0)
Requirement already satisfied: click>=8.1.3 in /usr/local/lib/python3.10/dist-packages (from Flask<3.1,>=1.0.4->dash) (8.1.7)
Requirement already satisfied: blinker>=1.6.2 in /usr/local/lib/python3.10/dist-packages (from Flask<3.1,>=1.0.4->dash) (1.9.0)
Requirement already satisfied: six>=1.5 in /usr/local/lib/python3.10/dist-packages (from python-dateutil>=2.8.2->pandas) (1.17.0)
Requirement already satisfied: MarkupSafe>=2.1.1 in /usr/local/lib/python3.10/dist-packages (from Werkzeug<3.1->dash) (3.0.2)
Requirement already satisfied: zipp>=3.20 in /usr/local/lib/python3.10/dist-packages (from importlib-metadata->dash) (3.21.0)
Requirement already satisfied: charset-normalizer<4,>=2 in /usr/local/lib/python3.10/dist-packages (from requests->dash) (3.4.0)
Requirement already satisfied: idna<4,>=2.5 in /usr/local/lib/python3.10/dist-packages (from requests->dash) (3.10)
Requirement already satisfied: urllib3<3,>=1.21.1 in /usr/local/lib/python3.10/dist-packages (from requests->dash) (2.2.3)
Requirement already satisfied: certifi>=2017.4.17 in /usr/local/lib/python3.10/dist-packages (from requests->dash) (2024.12.14)
Downloading dash-2.18.2-py3-none-any.whl (7.8 MB)
   ━━━━━━━━━━━━━━━━━━━━━━━━━━━━━━━━━━━━━━━━ 7.8/7.8 MB 66.7 MB/s eta 0:00:00
Downloading dash_core_components-2.0.0-py3-none-any.whl (3.8 kB)
Downloading dash_html_components-2.0.0-py3-none-any.whl (4.1 kB)
Downloading dash_table-5.0.0-py3-none-any.whl (3.9 kB)
Downloading flask-3.0.3-py3-none-any.whl (101 kB)
   ━━━━━━━━━━━━━━━━━━━━━━━━━━━━━━━━━━━━━━━━ 101.7/101.7 kB 8.0 MB/s eta 0:00:00
Downloading werkzeug-3.0.6-py3-none-any.whl (227 kB)
   ━━━━━━━━━━━━━━━━━━━━━━━━━━━━━━━━━━━━━━━━ 228.0/228.0 kB 15.3 MB/s eta 0:00:00
Downloading retrying-1.3.4-py3-none-any.whl (11 kB)
Installing collected packages: dash-table, dash-html-components, dash-core-components, Werkzeug, retrying, Flask, dash
  Attempting uninstall: Werkzeug
    Found existing installation: Werkzeug 3.1.3
    Uninstalling Werkzeug-3.1.3:
      Successfully uninstalled Werkzeug-3.1.3
  Attempting uninstall: Flask
    Found existing installation: Flask 3.1.0
    Uninstalling Flask-3.1.0:
      Successfully uninstalled Flask-3.1.0
Successfully installed Flask-3.0.3 Werkzeug-3.0.6 dash-2.18.2 dash-core-components-2.0.0 dash-html-components-2.0.0 dash-table-5.0.0 retrying-1.3.4

pip install joblib dash plotly numpy pandas

     
Requirement already satisfied: joblib in /usr/local/lib/python3.10/dist-packages (1.4.2)
Requirement already satisfied: dash in /usr/local/lib/python3.10/dist-packages (2.18.2)
Requirement already satisfied: plotly in /usr/local/lib/python3.10/dist-packages (5.24.1)
Requirement already satisfied: numpy in /usr/local/lib/python3.10/dist-packages (1.26.4)
Requirement already satisfied: pandas in /usr/local/lib/python3.10/dist-packages (2.2.2)
Requirement already satisfied: Flask<3.1,>=1.0.4 in /usr/local/lib/python3.10/dist-packages (from dash) (3.0.3)
Requirement already satisfied: Werkzeug<3.1 in /usr/local/lib/python3.10/dist-packages (from dash) (3.0.6)
Requirement already satisfied: dash-html-components==2.0.0 in /usr/local/lib/python3.10/dist-packages (from dash) (2.0.0)
Requirement already satisfied: dash-core-components==2.0.0 in /usr/local/lib/python3.10/dist-packages (from dash) (2.0.0)
Requirement already satisfied: dash-table==5.0.0 in /usr/local/lib/python3.10/dist-packages (from dash) (5.0.0)
Requirement already satisfied: importlib-metadata in /usr/local/lib/python3.10/dist-packages (from dash) (8.5.0)
Requirement already satisfied: typing-extensions>=4.1.1 in /usr/local/lib/python3.10/dist-packages (from dash) (4.12.2)
Requirement already satisfied: requests in /usr/local/lib/python3.10/dist-packages (from dash) (2.32.3)
Requirement already satisfied: retrying in /usr/local/lib/python3.10/dist-packages (from dash) (1.3.4)
Requirement already satisfied: nest-asyncio in /usr/local/lib/python3.10/dist-packages (from dash) (1.6.0)
Requirement already satisfied: setuptools in /usr/local/lib/python3.10/dist-packages (from dash) (75.1.0)
Requirement already satisfied: tenacity>=6.2.0 in /usr/local/lib/python3.10/dist-packages (from plotly) (9.0.0)
Requirement already satisfied: packaging in /usr/local/lib/python3.10/dist-packages (from plotly) (24.2)
Requirement already satisfied: python-dateutil>=2.8.2 in /usr/local/lib/python3.10/dist-packages (from pandas) (2.8.2)
Requirement already satisfied: pytz>=2020.1 in /usr/local/lib/python3.10/dist-packages (from pandas) (2024.2)
Requirement already satisfied: tzdata>=2022.7 in /usr/local/lib/python3.10/dist-packages (from pandas) (2024.2)
Requirement already satisfied: Jinja2>=3.1.2 in /usr/local/lib/python3.10/dist-packages (from Flask<3.1,>=1.0.4->dash) (3.1.4)
Requirement already satisfied: itsdangerous>=2.1.2 in /usr/local/lib/python3.10/dist-packages (from Flask<3.1,>=1.0.4->dash) (2.2.0)
Requirement already satisfied: click>=8.1.3 in /usr/local/lib/python3.10/dist-packages (from Flask<3.1,>=1.0.4->dash) (8.1.7)
Requirement already satisfied: blinker>=1.6.2 in /usr/local/lib/python3.10/dist-packages (from Flask<3.1,>=1.0.4->dash) (1.9.0)
Requirement already satisfied: six>=1.5 in /usr/local/lib/python3.10/dist-packages (from python-dateutil>=2.8.2->pandas) (1.17.0)
Requirement already satisfied: MarkupSafe>=2.1.1 in /usr/local/lib/python3.10/dist-packages (from Werkzeug<3.1->dash) (3.0.2)
Requirement already satisfied: zipp>=3.20 in /usr/local/lib/python3.10/dist-packages (from importlib-metadata->dash) (3.21.0)
Requirement already satisfied: charset-normalizer<4,>=2 in /usr/local/lib/python3.10/dist-packages (from requests->dash) (3.4.0)
Requirement already satisfied: idna<4,>=2.5 in /usr/local/lib/python3.10/dist-packages (from requests->dash) (3.10)
Requirement already satisfied: urllib3<3,>=1.21.1 in /usr/local/lib/python3.10/dist-packages (from requests->dash) (2.2.3)
Requirement already satisfied: certifi>=2017.4.17 in /usr/local/lib/python3.10/dist-packages (from requests->dash) (2024.12.14)

import dash
from dash import dcc, html
from dash.dependencies import Input, Output
import plotly.graph_objs as go
import pandas as pd
import numpy as np
from sklearn.preprocessing import StandardScaler
from sklearn.ensemble import RandomForestClassifier
from collections import deque
import joblib

# Load your Random Forest model
rf_model = joblib.load("rf_model")  # Ensure the correct path
scaler = joblib.load("scaler")     # Ensure the correct path

# Simulate EEG Data (Replace this with real-time EEG signal fetching)
def get_eeg_data():
    # Generate random data of the same feature size as the training data
    num_features = scaler.mean_.shape[0]  # Get the number of features from the scaler
    return np.random.uniform(-100, 100, size=(1, num_features))

# Predict seizure risk level using the trained model
def predict_seizure_risk(eeg_data):
    scaled_data = scaler.transform(eeg_data)  # Scale the input
    prediction = rf_model.predict(scaled_data)  # Predict using the trained model
    risk_levels = {0: "Low", 1: "High"}  # Adjust according to your dataset's labels
    return risk_levels.get(prediction[0], "Unknown")

# Dashboard Buffers
time_window = 100  # Rolling window size
num_channels = 5  # Number of channels to visualize
time_series = deque(maxlen=time_window)
channel_data = [deque(maxlen=time_window) for _ in range(num_channels)]
risk_levels = deque(maxlen=time_window)

# Initialize with dummy data
for i in range(time_window):
    time_series.append(i)
    for ch in range(num_channels):
        channel_data[ch].append(0)  # Default to zero
    risk_levels.append("Low")

# Create Dash app
app = dash.Dash(__name__)
app.layout = html.Div([
    html.H1("Real-Time EEG Seizure Prediction", style={'text-align': 'center'}),

    # EEG Signal Graph
    dcc.Graph(id="eeg-graph", style={'height': '60vh'}),

    # Risk Level Indicator
    html.Div([
        html.H3("Seizure Risk Level:", style={'text-align': 'center'}),
        html.Div(id="risk-level", style={
            'text-align': 'center',
            'font-size': '30px',
            'padding': '20px',
            'color': 'white',
            'background-color': 'green',
            'border-radius': '10px',
            'width': '50%',
            'margin': '0 auto'
        }),
    ]),

    # Interval for real-time updates
    dcc.Interval(id="update-interval", interval=1000, n_intervals=0)  # Update every second
])

# Callback for updating the dashboard
@app.callback(
    [Output("eeg-graph", "figure"), Output("risk-level", "children"), Output("risk-level", "style")],
    [Input("update-interval", "n_intervals")]
)
def update_dashboard(n):
    eeg_data = get_eeg_data()  # Fetch new EEG data
    risk_level = predict_seizure_risk(eeg_data)  # Predict seizure risk

    # Append new data
    time_series.append(time_series[-1] + 1)
    for ch in range(num_channels):
        channel_data[ch].append(eeg_data[0, ch])  # Visualize the first `num_channels` features
    risk_levels.append(risk_level)

    # Color map for risk levels
    risk_colors = {"Low": "green", "High": "red"}

    # Create EEG plot with multiple channels
    eeg_figure = {
        "data": [
            go.Scatter(x=list(time_series), y=list(channel_data[ch]), mode='lines', name=f"Channel {ch+1}")
            for ch in range(num_channels)
        ],
        "layout": go.Layout(
            title="EEG Signals",
            xaxis={"title": "Time"},
            yaxis={"title": "Amplitude (µV)"},
            showlegend=True
        )
    }

    # Update risk level style
    risk_style = {
        'text-align': 'center',
        'font-size': '30px',
        'padding': '20px',
        'color': 'white',
        'background-color': risk_colors.get(risk_level, "gray"),
        'border-radius': '10px',
        'width': '50%',
        'margin': '0 auto'
    }

    return eeg_figure, risk_level, risk_style

if __name__ == "__main__":
    app.run_server(debug=True)

     

!pip install kaleido

     
/usr/local/lib/python3.10/dist-packages/sklearn/utils/validation.py:2739: UserWarning:

X does not have valid feature names, but StandardScaler was fitted with feature names

Collecting kaleido
  Downloading kaleido-0.2.1-py2.py3-none-manylinux1_x86_64.whl.metadata (15 kB)
Downloading kaleido-0.2.1-py2.py3-none-manylinux1_x86_64.whl (79.9 MB)
   ━━━━━━━━━━━━━━━━━━━━━━━━━━━━━━━━━━━━━━━╸ 79.9/79.9 MB 68.5 MB/s eta 0:00:01
/usr/local/lib/python3.10/dist-packages/sklearn/utils/validation.py:2739: UserWarning:

X does not have valid feature names, but StandardScaler was fitted with feature names

   ━━━━━━━━━━━━━━━━━━━━━━━━━━━━━━━━━━━━━━━╸ 79.9/79.9 MB 68.5 MB/s eta 0:00:01
/usr/local/lib/python3.10/dist-packages/sklearn/utils/validation.py:2739: UserWarning:

X does not have valid feature names, but StandardScaler was fitted with feature names

   ━━━━━━━━━━━━━━━━━━━━━━━━━━━━━━━━━━━━━━━━ 79.9/79.9 MB 8.2 MB/s eta 0:00:00
/usr/local/lib/python3.10/dist-packages/sklearn/utils/validation.py:2739: UserWarning:

X does not have valid feature names, but StandardScaler was fitted with feature names

/usr/local/lib/python3.10/dist-packages/sklearn/utils/validation.py:2739: UserWarning:

X does not have valid feature names, but StandardScaler was fitted with feature names

/usr/local/lib/python3.10/dist-packages/sklearn/utils/validation.py:2739: UserWarning:

X does not have valid feature names, but StandardScaler was fitted with feature names

/usr/local/lib/python3.10/dist-packages/sklearn/utils/validation.py:2739: UserWarning:

X does not have valid feature names, but StandardScaler was fitted with feature names

Installing collected packages: kaleido
/usr/local/lib/python3.10/dist-packages/sklearn/utils/validation.py:2739: UserWarning:

X does not have valid feature names, but StandardScaler was fitted with feature names

/usr/local/lib/python3.10/dist-packages/sklearn/utils/validation.py:2739: UserWarning:

X does not have valid feature names, but StandardScaler was fitted with feature names

/usr/local/lib/python3.10/dist-packages/sklearn/utils/validation.py:2739: UserWarning:

X does not have valid feature names, but StandardScaler was fitted with feature names

/usr/local/lib/python3.10/dist-packages/sklearn/utils/validation.py:2739: UserWarning:

X does not have valid feature names, but StandardScaler was fitted with feature names

/usr/local/lib/python3.10/dist-packages/sklearn/utils/validation.py:2739: UserWarning:

X does not have valid feature names, but StandardScaler was fitted with feature names

Successfully installed kaleido-0.2.1
